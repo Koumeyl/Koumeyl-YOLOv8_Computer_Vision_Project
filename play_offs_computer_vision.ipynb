{
 "cells": [
  {
   "cell_type": "code",
   "execution_count": 1,
   "metadata": {},
   "outputs": [],
   "source": [
    "import glob\n",
    "import natsort\n",
    "import ffmpeg\n",
    "import numpy as np\n",
    "from ipywidgets import interact\n",
    "from matplotlib import pyplot as plt"
   ]
  },
  {
   "cell_type": "code",
   "execution_count": 2,
   "metadata": {},
   "outputs": [],
   "source": [
    "out = (\n",
    "    ffmpeg\n",
    "    .input(\"subsample.mp4\")\n",
    "    .filter('fps', fps='29.98')\n",
    "    .output('thumbs/frame%d.jpg', \n",
    "        start_number=0)\n",
    "    .overwrite_output()\n",
    "    .run(quiet=True)\n",
    ")\n"
   ]
  },
  {
   "cell_type": "code",
   "execution_count": 3,
   "metadata": {},
   "outputs": [],
   "source": [
    "input = natsort.natsorted(glob.glob('../Koumeyl-YOLOv8_Computer_Vision_Project/thumbs/*.jpg'))"
   ]
  },
  {
   "cell_type": "code",
   "execution_count": 4,
   "metadata": {},
   "outputs": [],
   "source": [
    "from ultralytics import YOLO\n",
    "\n",
    "model = YOLO('yolov8n.pt')\n",
    "# results = model.train(data=r\"C:\\Users\\Koumeyl\\Projects\\Koumeyl-YOLOv8_Computer_Vision_Project\\data.yaml\")  # train the model\n",
    "# results = model.val()  # evaluate model performance on the validation set\n",
    "\n",
    "\n",
    "\n"
   ]
  },
  {
   "cell_type": "code",
   "execution_count": 5,
   "metadata": {},
   "outputs": [
    {
     "name": "stderr",
     "output_type": "stream",
     "text": [
      "Ultralytics YOLOv8.0.25 🚀 Python-3.10.8 torch-1.13.1+cu117 CPU\n",
      "YOLOv8n summary (fused): 168 layers, 3151904 parameters, 0 gradients, 8.7 GFLOPs\n",
      "\n"
     ]
    },
    {
     "ename": "",
     "evalue": "",
     "output_type": "error",
     "traceback": [
      "\u001b[1;31mCanceled future for execute_request message before replies were done"
     ]
    },
    {
     "ename": "",
     "evalue": "",
     "output_type": "error",
     "traceback": [
      "\u001b[1;31mThe Kernel crashed while executing code in the the current cell or a previous cell. Please review the code in the cell(s) to identify a possible cause of the failure. Click <a href='https://aka.ms/vscodeJupyterKernelCrash'>here</a> for more info. View Jupyter <a href='command:jupyter.viewOutput'>log</a> for further details."
     ]
    }
   ],
   "source": [
    "\n",
    "predictions = model.predict(\n",
    "   source=input,\n",
    "   conf=0.25,\n",
    "   save=True,\n",
    ")"
   ]
  },
  {
   "cell_type": "code",
   "execution_count": null,
   "metadata": {},
   "outputs": [],
   "source": [
    "(\n",
    "    ffmpeg\n",
    "    .input('runs/detect/predict/image%d.jpg', framerate=29.98)\n",
    "    .output('prediction.mp4')\n",
    "    .run()\n",
    ")"
   ]
  },
  {
   "cell_type": "code",
   "execution_count": null,
   "metadata": {},
   "outputs": [],
   "source": [
    "result = dict[0]"
   ]
  },
  {
   "cell_type": "code",
   "execution_count": null,
   "metadata": {},
   "outputs": [
    {
     "ename": "TypeError",
     "evalue": "'type' object is not iterable",
     "output_type": "error",
     "traceback": [
      "\u001b[0;31m---------------------------------------------------------------------------\u001b[0m",
      "\u001b[0;31mTypeError\u001b[0m                                 Traceback (most recent call last)",
      "Cell \u001b[0;32mIn[7], line 2\u001b[0m\n\u001b[1;32m      1\u001b[0m s \u001b[39m=\u001b[39m \u001b[39mset\u001b[39m()\n\u001b[0;32m----> 2\u001b[0m \u001b[39mfor\u001b[39;00m result \u001b[39min\u001b[39;00m \u001b[39mdict\u001b[39m:\n\u001b[1;32m      3\u001b[0m     s\u001b[39m.\u001b[39madd(result\u001b[39m.\u001b[39mboxes\u001b[39m.\u001b[39mshape)\n\u001b[1;32m      4\u001b[0m     \u001b[39mif\u001b[39;00m result\u001b[39m.\u001b[39mboxes\u001b[39m.\u001b[39mshape[\u001b[39m0\u001b[39m] \u001b[39m==\u001b[39m \u001b[39m30\u001b[39m:\n",
      "\u001b[0;31mTypeError\u001b[0m: 'type' object is not iterable"
     ]
    }
   ],
   "source": [
    "s = set()\n",
    "for result in dict:\n",
    "    s.add(result.boxes.shape)\n",
    "    if result.boxes.shape[0] == 30:\n",
    "        print(result)"
   ]
  },
  {
   "cell_type": "code",
   "execution_count": null,
   "metadata": {},
   "outputs": [],
   "source": []
  },
  {
   "cell_type": "code",
   "execution_count": null,
   "metadata": {},
   "outputs": [],
   "source": []
  }
 ],
 "metadata": {
  "kernelspec": {
   "display_name": "Python 3.10.8 ('env': venv)",
   "language": "python",
   "name": "python3"
  },
  "language_info": {
   "codemirror_mode": {
    "name": "ipython",
    "version": 3
   },
   "file_extension": ".py",
   "mimetype": "text/x-python",
   "name": "python",
   "nbconvert_exporter": "python",
   "pygments_lexer": "ipython3",
   "version": "3.10.8"
  },
  "orig_nbformat": 4,
  "vscode": {
   "interpreter": {
    "hash": "856c5771456f1e5469344f76a80eb9c4f71b0d18ce7624d6726e15e89ee389b9"
   }
  }
 },
 "nbformat": 4,
 "nbformat_minor": 2
}
